{
  "nbformat": 4,
  "nbformat_minor": 0,
  "metadata": {
    "colab": {
      "provenance": [],
      "toc_visible": true,
      "authorship_tag": "ABX9TyPzmin2FRn/ACFujkDB9ctM",
      "include_colab_link": true
    },
    "kernelspec": {
      "name": "python3",
      "display_name": "Python 3"
    },
    "language_info": {
      "name": "python"
    }
  },
  "cells": [
    {
      "cell_type": "markdown",
      "metadata": {
        "id": "view-in-github",
        "colab_type": "text"
      },
      "source": [
        "<a href=\"https://colab.research.google.com/github/roseiricho/nand2tetris-python/blob/main/nand2tetris.ipynb\" target=\"_parent\"><img src=\"https://colab.research.google.com/assets/colab-badge.svg\" alt=\"Open In Colab\"/></a>"
      ]
    },
    {
      "cell_type": "markdown",
      "source": [
        "# nand2tetris\n",
        "\n",
        "This notebook is an implementation of [\"The Elements Of Computing Systems: Building A Modern Computer From First Principles\"](https://www.amazon.co.jp/Elements-Computing-Systems-Building-Principles/dp/0262640686) in the Python environment."
      ],
      "metadata": {
        "id": "_cc-IsBoU2zY"
      }
    },
    {
      "cell_type": "markdown",
      "source": [
        "## NAND Gate"
      ],
      "metadata": {
        "id": "_L-_MQNSU8LJ"
      }
    },
    {
      "cell_type": "code",
      "execution_count": 1,
      "metadata": {
        "id": "zFA5j6LjR2XZ"
      },
      "outputs": [],
      "source": [
        "# defiene the nand gate\n",
        "def _nand(x: bool, y:bool) -> bool:\n",
        "  if not isinstance(x, bool) or not isinstance(y, bool):\n",
        "    raise TypeError(\"nand() function only accepts boolean values as inputs.\")\n",
        "\n",
        "  if x and y:\n",
        "    return False\n",
        "  elif x and not y:\n",
        "    return True\n",
        "  elif not x and y:\n",
        "    return True\n",
        "  elif not x and not y:\n",
        "    return True\n",
        "  else:\n",
        "    ValueError(\"Unexpected combination of input values.\")"
      ]
    },
    {
      "cell_type": "markdown",
      "source": [
        "### Test"
      ],
      "metadata": {
        "id": "OAOS5jZ4U8UO"
      }
    },
    {
      "cell_type": "code",
      "source": [
        "# define the test function for the nand gate\n",
        "def test_nand():\n",
        "  assert _nand(True, True) == False\n",
        "  assert _nand(True, False) == True\n",
        "  assert _nand(False, True) == True\n",
        "  assert _nand(False, False) == True\n",
        "\n",
        "test_nand()"
      ],
      "metadata": {
        "id": "c96m1V1gTbC8"
      },
      "execution_count": null,
      "outputs": []
    },
    {
      "cell_type": "markdown",
      "source": [
        "## Logic Gate"
      ],
      "metadata": {
        "id": "CaINzTyjSEEl"
      }
    },
    {
      "cell_type": "code",
      "source": [
        "# define the not gate\n",
        "def _not(x: bool) -> bool:\n",
        "  return _nand(x, x)\n",
        "\n",
        "# define the and gate\n",
        "def _and(x: bool, y:bool) -> bool:\n",
        "  return _not(_nand(x, y))\n",
        "\n",
        "# define the or gate\n",
        "def _or(x: bool, y:bool) -> bool:\n",
        "  return _nand(_nand(x, x), _nand(y, y))\n",
        "\n",
        "# define the nor gate\n",
        "def _nor(x: bool, y:bool) -> bool:\n",
        "  return _not(_or(x, y))\n",
        "\n",
        "# define the xor gate\n",
        "def _xor(x: bool, y:bool) -> bool:\n",
        "  return _nand(_nand(x, _nand(x, y)), _nand(_nand(x, y), y))\n",
        "\n",
        "# define the mux gate\n",
        "def _mux(x: bool, y: bool, sel: bool) -> bool:\n",
        "  return _or(_and(x, _not(sel)), _and(y, sel))\n",
        "\n",
        "# define the dmux gate\n",
        "def _dmux(x: bool, sel: bool) -> bool:\n",
        "  return _and(x, _not(sel)), _and(x, sel)"
      ],
      "metadata": {
        "id": "PZOpqGD-UQB2"
      },
      "execution_count": 6,
      "outputs": []
    },
    {
      "cell_type": "markdown",
      "source": [
        "### Test"
      ],
      "metadata": {
        "id": "Y1wWhlz-VcPG"
      }
    },
    {
      "cell_type": "code",
      "source": [
        "# define the test function for the not gate\n",
        "def test_not():\n",
        "  assert _not(True) == False\n",
        "  assert _not(False) == True\n",
        "\n",
        "# define the test function for the and gate\n",
        "def test_and():\n",
        "  assert _and(True, True) == True\n",
        "  assert _and(True, False) == False\n",
        "  assert _and(False, True) == False\n",
        "  assert _and(False, False) == False\n",
        "\n",
        "# define the test function for the or gate\n",
        "def test_or():\n",
        "  assert _or(True, True) == True\n",
        "  assert _or(True, False) == True\n",
        "  assert _or(False, True) == True\n",
        "  assert _or(False, False) == False\n",
        "\n",
        "# define the test function for the nor gate\n",
        "def test_nor():\n",
        "  assert _nor(True, True) == False\n",
        "  assert _nor(True, False) == False\n",
        "  assert _nor(False, True) == False\n",
        "  assert _nor(False, False) == True\n",
        "\n",
        "# define the test function for the xor gate\n",
        "def test_xor():\n",
        "  assert _xor(True, True) == False\n",
        "  assert _xor(True, False) == True\n",
        "  assert _xor(False, True) == True\n",
        "  assert _xor(False, False) == False\n",
        "\n",
        "# define the test function for the mux gate\n",
        "def test_mux():\n",
        "  assert _mux(True, True, True) == True\n",
        "  assert _mux(True, True, False) == True\n",
        "  assert _mux(True, False, True) == False\n",
        "  assert _mux(True, False, False) == True\n",
        "  assert _mux(False, True, True) == True\n",
        "  assert _mux(False, True, False) == False\n",
        "  assert _mux(False, False, True) == False\n",
        "  assert _mux(False, False, False) == False\n",
        "\n",
        "# define the test function for the dmux gate\n",
        "def test_dmux():\n",
        "  assert _dmux(True, True) == (False, True)\n",
        "  assert _dmux(True, False) == (True, False)\n",
        "  assert _dmux(False, True) == (False, False)\n",
        "  assert _dmux(False, False) == (False, False)\n",
        "\n",
        "test_not()\n",
        "test_and()\n",
        "test_or()\n",
        "test_nor()\n",
        "test_xor()\n",
        "test_mux()\n",
        "test_dmux()"
      ],
      "metadata": {
        "id": "UJYi27h8UQHE"
      },
      "execution_count": 7,
      "outputs": []
    },
    {
      "cell_type": "markdown",
      "source": [
        "## Adder"
      ],
      "metadata": {
        "id": "ZhJT9gpDtDkz"
      }
    },
    {
      "cell_type": "code",
      "source": [
        "# define the half adder\n",
        "def _half_adder(x: bool, y: bool) -> bool:\n",
        "  return _xor(x, y), _and(x, y)\n",
        "\n",
        "# define the full adder\n",
        "def _full_adder(x: bool, y: bool, c: bool) -> bool:\n",
        "  #return _xor(_xor(x, y), c), _or(_and(x, y), _and(_xor(x, y), c))\n",
        "  return _half_adder(_half_adder(x, y)[0], c)[0], _or(_half_adder(x, y)[1], _half_adder(_half_adder(x, y)[0], c)[1])\n",
        "\n",
        "# define the adder\n",
        "def _adder(x: bool, y: bool) -> bool:\n",
        "  if len(x) != len(y):\n",
        "    raise ValueError(\"The two input lists must be of the same length.\")\n",
        "\n",
        "  if len(x) == 1:\n",
        "    return [_full_adder(x[0], y[0], False)[0]]\n",
        "  else:\n",
        "    return _full_adder(x[0], y[0], False)[0] + _adder(x[1:], y[1:])\n",
        "\n",
        "# define the incrementer\n",
        "def _incrementer(x: bool) -> bool:\n",
        "  return _adder(x, [False] + [True] * (len(x) - 1))\n",
        "\n",
        "# define the ALU\n",
        "def _alu(x: bool, y: bool, zx: bool, nx: bool, zy: bool, ny: bool, f: bool, no: bool) -> bool:\n",
        "  if zx:\n",
        "    x = [False] * len(x)\n",
        "  if nx:\n",
        "    x = _not(x)\n",
        "  if zy:\n",
        "    y = [False] * len(y)\n",
        "  if ny:\n",
        "    y = _not(y)\n",
        "  if f:\n",
        "    out = _adder(x, y)\n",
        "  else:\n",
        "    out = _and(x, y)\n",
        "  if no:\n",
        "    out = _not(out)\n",
        "  return out, _or(_and(_not(x), _not(y)), _and(x, y))\n"
      ],
      "metadata": {
        "id": "hDm0dDTftH7t"
      },
      "execution_count": 21,
      "outputs": []
    },
    {
      "cell_type": "markdown",
      "source": [
        "### Test"
      ],
      "metadata": {
        "id": "Z6PfqVn1tIMo"
      }
    },
    {
      "cell_type": "code",
      "source": [
        "# define the test function for the half adder\n",
        "def test_half_adder():\n",
        "  assert _half_adder(True, True) == (False, True)\n",
        "  assert _half_adder(True, False) == (True, False)\n",
        "  assert _half_adder(False, True) == (True, False)\n",
        "  assert _half_adder(False, False) == (False, False)\n",
        "\n",
        "# define the test function for the full adder\n",
        "def test_full_adder():\n",
        "  assert _full_adder(True, True, True) == (True, True)\n",
        "  assert _full_adder(True, True, False) == (False, True)\n",
        "  assert _full_adder(True, False, True) == (False, True)\n",
        "  assert _full_adder(True, False, False) == (True, False)\n",
        "  assert _full_adder(False, True, True) == (False, True)\n",
        "  assert _full_adder(False, True, False) == (True, False)\n",
        "  assert _full_adder(False, False, True) == (True, False)\n",
        "  assert _full_adder(False, False, False) == (False, False)\n",
        "\n",
        "test_half_adder()\n",
        "test_full_adder()"
      ],
      "metadata": {
        "id": "dDq4I0-ktJ4t"
      },
      "execution_count": 23,
      "outputs": []
    }
  ]
}